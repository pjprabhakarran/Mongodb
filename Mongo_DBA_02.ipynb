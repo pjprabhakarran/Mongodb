{
 "cells": [
  {
   "cell_type": "code",
   "execution_count": 1,
   "id": "0afd1463",
   "metadata": {},
   "outputs": [],
   "source": [
    "# importing required package\n",
    "import pymongo"
   ]
  },
  {
   "cell_type": "code",
   "execution_count": 2,
   "id": "378da939",
   "metadata": {},
   "outputs": [],
   "source": [
    "# importing required libraries\n",
    "from pymongo import MongoClient, InsertOne"
   ]
  },
  {
   "cell_type": "code",
   "execution_count": 3,
   "id": "8276fa61",
   "metadata": {},
   "outputs": [],
   "source": [
    "# Establishing connection and defining new collection\n",
    "client = pymongo.MongoClient(\"mongodb://127.0.0.1:27017/\")\n",
    "db = client.ASS_MDB_02\n",
    "collection = db.tele"
   ]
  },
  {
   "cell_type": "code",
   "execution_count": 7,
   "id": "c3ac8465",
   "metadata": {},
   "outputs": [],
   "source": [
    "# Variable with single data\n",
    "directory = {\"name\":\"Prabha\",\"phone\":\"999999999\",\"place\":\"salem\"}"
   ]
  },
  {
   "cell_type": "code",
   "execution_count": 9,
   "id": "4ce220b0",
   "metadata": {},
   "outputs": [
    {
     "data": {
      "text/plain": [
       "<pymongo.results.InsertOneResult at 0x1d976e010f0>"
      ]
     },
     "execution_count": 9,
     "metadata": {},
     "output_type": "execute_result"
    }
   ],
   "source": [
    "# Insert operation of one record\n",
    "db.collection.insert_one(directory)"
   ]
  },
  {
   "cell_type": "code",
   "execution_count": 10,
   "id": "ab0c1e34",
   "metadata": {},
   "outputs": [],
   "source": [
    "# Variable with multiple record\n",
    "multi_data=[{\"name\":\"user2\",\"phone\":\"8888888888\",\"place\":\"place2\"},\n",
    "{\"name\":\"user3\",\"phone\":\"7777777777\",\"place\":\"place3\"},\n",
    "{\"name\":\"user4\",\"phone\":\"6666666666\",\"place\":\"place4\"},\n",
    "{\"name\":\"user5\",\"phone\":\"5555555555\",\"place\":\"place5\"},\n",
    "{\"name\":\"user6\",\"phone\":\"4444444444\",\"place\":\"place6\"}]"
   ]
  },
  {
   "cell_type": "code",
   "execution_count": 12,
   "id": "e01adead",
   "metadata": {},
   "outputs": [
    {
     "data": {
      "text/plain": [
       "<pymongo.results.InsertManyResult at 0x1d978748040>"
      ]
     },
     "execution_count": 12,
     "metadata": {},
     "output_type": "execute_result"
    }
   ],
   "source": [
    "# Inserting multiple records\n",
    "db.collection.insert_many(multi_data)"
   ]
  },
  {
   "cell_type": "code",
   "execution_count": 13,
   "id": "6879b200",
   "metadata": {},
   "outputs": [
    {
     "name": "stdout",
     "output_type": "stream",
     "text": [
      "{'_id': ObjectId('6367e6e80183d094c12ec28b'), 'name': 'Prabha', 'phone': '999999999', 'place': 'salem'}\n",
      "{'_id': ObjectId('6367e80f0183d094c12ec28c'), 'name': 'user2', 'phone': '8888888888', 'place': 'place2'}\n",
      "{'_id': ObjectId('6367e80f0183d094c12ec28d'), 'name': 'user3', 'phone': '7777777777', 'place': 'place3'}\n",
      "{'_id': ObjectId('6367e80f0183d094c12ec28e'), 'name': 'user4', 'phone': '6666666666', 'place': 'place4'}\n",
      "{'_id': ObjectId('6367e80f0183d094c12ec28f'), 'name': 'user5', 'phone': '5555555555', 'place': 'place5'}\n",
      "{'_id': ObjectId('6367e80f0183d094c12ec290'), 'name': 'user6', 'phone': '4444444444', 'place': 'place6'}\n"
     ]
    }
   ],
   "source": [
    "# Printing records in the collection\n",
    "for i in db.collection.find():\n",
    "    print(i)"
   ]
  },
  {
   "cell_type": "code",
   "execution_count": 23,
   "id": "6f35bd48",
   "metadata": {},
   "outputs": [
    {
     "name": "stdout",
     "output_type": "stream",
     "text": [
      "{'_id': ObjectId('6367e6e80183d094c12ec28b'), 'name': 'Prabha', 'phone': '999999999', 'place': 'salem'}\n"
     ]
    }
   ],
   "source": [
    "# Printing records in the collection\n",
    "for fin in db.collection.find({\"name\":\"Prabha\"}):\n",
    "    print(fin)"
   ]
  },
  {
   "cell_type": "code",
   "execution_count": 26,
   "id": "8b07bfad",
   "metadata": {},
   "outputs": [
    {
     "name": "stdout",
     "output_type": "stream",
     "text": [
      "{'_id': ObjectId('6367e80f0183d094c12ec28e'), 'name': 'John', 'phone': '6666666666', 'place': 'place4'}\n"
     ]
    }
   ],
   "source": [
    "#Query condition\n",
    "filter = {\"place\":\"place4\"}\n",
    "#Update value\n",
    "update_val = {\"$set\": {\"name\":\"John\"}}\n",
    "#Update statement\n",
    "db.collection.update_one(filter,update_val)\n",
    "#print updated record\n",
    "for i in db.collection.find(filter):\n",
    "    print(i)"
   ]
  },
  {
   "cell_type": "code",
   "execution_count": 31,
   "id": "9d266c19",
   "metadata": {},
   "outputs": [
    {
     "name": "stdout",
     "output_type": "stream",
     "text": [
      "{'_id': ObjectId('6367e6e80183d094c12ec28b'), 'name': 'Prabha', 'phone': '999999999', 'place': 'salem'}\n",
      "{'_id': ObjectId('6367e80f0183d094c12ec28c'), 'name': 'user2', 'phone': '8888888888', 'place': 'place2'}\n",
      "{'_id': ObjectId('6367e80f0183d094c12ec28d'), 'name': 'user3', 'phone': '7777777777', 'place': 'place3'}\n",
      "{'_id': ObjectId('6367e80f0183d094c12ec28e'), 'name': 'John', 'phone': '6666666666', 'place': 'place4'}\n",
      "{'_id': ObjectId('6367e80f0183d094c12ec28f'), 'name': 'user5', 'phone': '5555555555', 'place': 'place5'}\n"
     ]
    }
   ],
   "source": [
    "#Query\n",
    "filter_2 = {\"phone\":\"4444444444\"}\n",
    "\n",
    "#delete statement\n",
    "db.collection.delete_one(filter_2)\n",
    "\n",
    "#Print data post delete\n",
    "for i in db.collection.find():\n",
    "    print(i)"
   ]
  },
  {
   "cell_type": "code",
   "execution_count": null,
   "id": "92016ea5",
   "metadata": {},
   "outputs": [],
   "source": []
  }
 ],
 "metadata": {
  "kernelspec": {
   "display_name": "Python 3 (ipykernel)",
   "language": "python",
   "name": "python3"
  },
  "language_info": {
   "codemirror_mode": {
    "name": "ipython",
    "version": 3
   },
   "file_extension": ".py",
   "mimetype": "text/x-python",
   "name": "python",
   "nbconvert_exporter": "python",
   "pygments_lexer": "ipython3",
   "version": "3.10.7"
  }
 },
 "nbformat": 4,
 "nbformat_minor": 5
}
